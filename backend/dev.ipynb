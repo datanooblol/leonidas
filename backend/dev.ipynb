{
 "cells": [
  {
   "cell_type": "code",
   "execution_count": 1,
   "id": "5418e8e6",
   "metadata": {},
   "outputs": [],
   "source": [
    "%load_ext autoreload\n",
    "%autoreload 2"
   ]
  },
  {
   "cell_type": "code",
   "execution_count": 2,
   "id": "9fab401b",
   "metadata": {},
   "outputs": [],
   "source": [
    "from package.core.llm import UserMessage, ModelResponse, BedrockOpenAI\n",
    "\n",
    "model_id = \"openai.gpt-oss-20b-1:0\"\n",
    "bedrock = BedrockOpenAI(model_id)"
   ]
  },
  {
   "cell_type": "code",
   "execution_count": 4,
   "id": "4f90afe2",
   "metadata": {},
   "outputs": [
    {
     "data": {
      "text/plain": [
       "[{'role': 'user', 'content': 'Hi'},\n",
       " {'model_name': 'openai.gpt-oss-20b-1:0',\n",
       "  'role': 'assistant',\n",
       "  'content': 'Hello! How can I help you today?',\n",
       "  'reason': 'The user says \"Hi\". This is a simple greeting. I should respond politely.',\n",
       "  'input_tokens': 80,\n",
       "  'output_tokens': 36}]"
      ]
     },
     "execution_count": 4,
     "metadata": {},
     "output_type": "execute_result"
    }
   ],
   "source": [
    "system_prompt = \"You are a helpful assistant.\"\n",
    "\n",
    "user_submit_from_frontend = dict(content=\"Hi\")\n",
    "messages = []\n",
    "messages.append(UserMessage(content=user_submit_from_frontend['content']))\n",
    "response = bedrock.run(system_prompt, messages=messages)\n",
    "messages.append(response.model_dump())\n",
    "messages"
   ]
  },
  {
   "cell_type": "code",
   "execution_count": 7,
   "id": "cd63ae57",
   "metadata": {},
   "outputs": [
    {
     "data": {
      "text/plain": [
       "[{'role': 'user', 'content': [{'text': 'Hi'}]},\n",
       " {'role': 'assistant',\n",
       "  'content': [{'text': 'Hello! How can I help you today?'}]}]"
      ]
     },
     "execution_count": 7,
     "metadata": {},
     "output_type": "execute_result"
    }
   ],
   "source": [
    "bedrock.bedrock_driver(messages)"
   ]
  },
  {
   "cell_type": "code",
   "execution_count": 9,
   "id": "a6a6e5af",
   "metadata": {},
   "outputs": [
    {
     "data": {
      "text/plain": [
       "[{'role': 'user', 'content': 'Hi'},\n",
       " {'model_name': 'openai.gpt-oss-20b-1:0',\n",
       "  'role': 'assistant',\n",
       "  'content': 'Hello! How can I help you today?',\n",
       "  'reason': 'The user says \"Hi\". This is a simple greeting. I should respond politely.',\n",
       "  'input_tokens': 80,\n",
       "  'output_tokens': 36},\n",
       " {'role': 'user', 'content': \"What's your name?\"},\n",
       " {'model_name': 'openai.gpt-oss-20b-1:0',\n",
       "  'role': 'assistant',\n",
       "  'content': 'I’m ChatGPT, an AI language model developed by OpenAI. How can I help you today?',\n",
       "  'reason': 'The user is simply asking: \"What\\'s your name?\" As ChatGPT, we should respond. The instruction: you are a helpful assistant. There\\'s no other constraints. Just give answer. Probably \"I’m ChatGPT.\" Also can mention I’m an AI. Probably not necessary to mention policy. Let\\'s answer.',\n",
       "  'input_tokens': 101,\n",
       "  'output_tokens': 93}]"
      ]
     },
     "execution_count": 9,
     "metadata": {},
     "output_type": "execute_result"
    }
   ],
   "source": [
    "messages.append(dict(role=\"user\", content=\"What's your name?\"))\n",
    "response = bedrock.run(system_prompt, messages=messages)\n",
    "messages.append(response.model_dump())\n",
    "messages"
   ]
  },
  {
   "cell_type": "code",
   "execution_count": 10,
   "id": "b06e250b",
   "metadata": {},
   "outputs": [
    {
     "data": {
      "text/plain": [
       "[{'role': 'user', 'content': [{'text': 'Hi'}]},\n",
       " {'role': 'assistant',\n",
       "  'content': [{'text': 'Hello! How can I help you today?'}]},\n",
       " {'role': 'user', 'content': [{'text': \"What's your name?\"}]},\n",
       " {'role': 'assistant',\n",
       "  'content': [{'text': 'I’m ChatGPT, an AI language model developed by OpenAI. How can I help you today?'}]}]"
      ]
     },
     "execution_count": 10,
     "metadata": {},
     "output_type": "execute_result"
    }
   ],
   "source": [
    "bedrock.bedrock_driver(messages)"
   ]
  },
  {
   "cell_type": "code",
   "execution_count": null,
   "id": "854f9130",
   "metadata": {},
   "outputs": [],
   "source": []
  }
 ],
 "metadata": {
  "kernelspec": {
   "display_name": "backend",
   "language": "python",
   "name": "python3"
  },
  "language_info": {
   "codemirror_mode": {
    "name": "ipython",
    "version": 3
   },
   "file_extension": ".py",
   "mimetype": "text/x-python",
   "name": "python",
   "nbconvert_exporter": "python",
   "pygments_lexer": "ipython3",
   "version": "3.12.9"
  }
 },
 "nbformat": 4,
 "nbformat_minor": 5
}
